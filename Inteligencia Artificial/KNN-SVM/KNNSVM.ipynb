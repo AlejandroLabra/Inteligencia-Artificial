{
  "nbformat": 4,
  "nbformat_minor": 0,
  "metadata": {
    "colab": {
      "provenance": []
    },
    "kernelspec": {
      "name": "python3",
      "display_name": "Python 3"
    },
    "language_info": {
      "name": "python"
    }
  },
  "cells": [
    {
      "cell_type": "code",
      "execution_count": 1,
      "metadata": {
        "colab": {
          "base_uri": "https://localhost:8080/"
        },
        "id": "fdzGqqy9QIFs",
        "outputId": "b6ede865-49a0-4d82-c995-cb4e86e6d34f"
      },
      "outputs": [
        {
          "output_type": "stream",
          "name": "stdout",
          "text": [
            "Mounted at /content/drive\n"
          ]
        }
      ],
      "source": [
        "from google.colab import drive\n",
        "drive.mount('/content/drive')"
      ]
    },
    {
      "cell_type": "code",
      "source": [
        "import pandas as pd\n",
        "#df = pd.read_csv('/content/drive/MyDrive/datos/data.csv')\n",
        "#df = pd.read_csv('https://raw.githubusercontent.com/AlejandroLabra/Inteligencia-Artificial/main/Inteligencia%20Artificial/KNN-SVM/data.csv')\n",
        "df = pd.read_csv('/content/data.csv')\n",
        "df.head(5)"
      ],
      "metadata": {
        "colab": {
          "base_uri": "https://localhost:8080/",
          "height": 206
        },
        "id": "Ozp8EfpjQhZD",
        "outputId": "6e12791a-70e4-46e7-d172-397d8abdc765"
      },
      "execution_count": 5,
      "outputs": [
        {
          "output_type": "execute_result",
          "data": {
            "text/plain": [
              "   Rank                                  Name  Unnamed: 2       Platform  \\\n",
              "0     1  The Legend of Zelda: Ocarina of Time         NaN    Nintendo 64   \n",
              "1     2              Tony Hawk's Pro Skater 2         NaN    PlayStation   \n",
              "2     3                   Grand Theft Auto IV         NaN  PlayStation 3   \n",
              "3     4                           SoulCalibur         NaN      Dreamcast   \n",
              "4     5                   Grand Theft Auto IV         NaN       Xbox 360   \n",
              "\n",
              "   Metascore       Date                                              Title  \\\n",
              "0         99  23-Nov-98  As a young boy, Link is tricked by Ganondorf, ...   \n",
              "1         98  20-Sep-00  As most major publishers' development efforts ...   \n",
              "2         98  29-Apr-08  [Metacritic's 2008 PS3 Game of the Year; Also ...   \n",
              "3         98   8-Sep-99  This is a tale of souls and swords, transcendi...   \n",
              "4         98  29-Apr-08  [Metacritic's 2008 Xbox 360 Game of the Year; ...   \n",
              "\n",
              "   Unnamed: 7  \n",
              "0         NaN  \n",
              "1         NaN  \n",
              "2         NaN  \n",
              "3         NaN  \n",
              "4         NaN  "
            ],
            "text/html": [
              "\n",
              "  <div id=\"df-b6343359-bd6b-4d03-912c-eeac18377a78\">\n",
              "    <div class=\"colab-df-container\">\n",
              "      <div>\n",
              "<style scoped>\n",
              "    .dataframe tbody tr th:only-of-type {\n",
              "        vertical-align: middle;\n",
              "    }\n",
              "\n",
              "    .dataframe tbody tr th {\n",
              "        vertical-align: top;\n",
              "    }\n",
              "\n",
              "    .dataframe thead th {\n",
              "        text-align: right;\n",
              "    }\n",
              "</style>\n",
              "<table border=\"1\" class=\"dataframe\">\n",
              "  <thead>\n",
              "    <tr style=\"text-align: right;\">\n",
              "      <th></th>\n",
              "      <th>Rank</th>\n",
              "      <th>Name</th>\n",
              "      <th>Unnamed: 2</th>\n",
              "      <th>Platform</th>\n",
              "      <th>Metascore</th>\n",
              "      <th>Date</th>\n",
              "      <th>Title</th>\n",
              "      <th>Unnamed: 7</th>\n",
              "    </tr>\n",
              "  </thead>\n",
              "  <tbody>\n",
              "    <tr>\n",
              "      <th>0</th>\n",
              "      <td>1</td>\n",
              "      <td>The Legend of Zelda: Ocarina of Time</td>\n",
              "      <td>NaN</td>\n",
              "      <td>Nintendo 64</td>\n",
              "      <td>99</td>\n",
              "      <td>23-Nov-98</td>\n",
              "      <td>As a young boy, Link is tricked by Ganondorf, ...</td>\n",
              "      <td>NaN</td>\n",
              "    </tr>\n",
              "    <tr>\n",
              "      <th>1</th>\n",
              "      <td>2</td>\n",
              "      <td>Tony Hawk's Pro Skater 2</td>\n",
              "      <td>NaN</td>\n",
              "      <td>PlayStation</td>\n",
              "      <td>98</td>\n",
              "      <td>20-Sep-00</td>\n",
              "      <td>As most major publishers' development efforts ...</td>\n",
              "      <td>NaN</td>\n",
              "    </tr>\n",
              "    <tr>\n",
              "      <th>2</th>\n",
              "      <td>3</td>\n",
              "      <td>Grand Theft Auto IV</td>\n",
              "      <td>NaN</td>\n",
              "      <td>PlayStation 3</td>\n",
              "      <td>98</td>\n",
              "      <td>29-Apr-08</td>\n",
              "      <td>[Metacritic's 2008 PS3 Game of the Year; Also ...</td>\n",
              "      <td>NaN</td>\n",
              "    </tr>\n",
              "    <tr>\n",
              "      <th>3</th>\n",
              "      <td>4</td>\n",
              "      <td>SoulCalibur</td>\n",
              "      <td>NaN</td>\n",
              "      <td>Dreamcast</td>\n",
              "      <td>98</td>\n",
              "      <td>8-Sep-99</td>\n",
              "      <td>This is a tale of souls and swords, transcendi...</td>\n",
              "      <td>NaN</td>\n",
              "    </tr>\n",
              "    <tr>\n",
              "      <th>4</th>\n",
              "      <td>5</td>\n",
              "      <td>Grand Theft Auto IV</td>\n",
              "      <td>NaN</td>\n",
              "      <td>Xbox 360</td>\n",
              "      <td>98</td>\n",
              "      <td>29-Apr-08</td>\n",
              "      <td>[Metacritic's 2008 Xbox 360 Game of the Year; ...</td>\n",
              "      <td>NaN</td>\n",
              "    </tr>\n",
              "  </tbody>\n",
              "</table>\n",
              "</div>\n",
              "      <button class=\"colab-df-convert\" onclick=\"convertToInteractive('df-b6343359-bd6b-4d03-912c-eeac18377a78')\"\n",
              "              title=\"Convert this dataframe to an interactive table.\"\n",
              "              style=\"display:none;\">\n",
              "        \n",
              "  <svg xmlns=\"http://www.w3.org/2000/svg\" height=\"24px\"viewBox=\"0 0 24 24\"\n",
              "       width=\"24px\">\n",
              "    <path d=\"M0 0h24v24H0V0z\" fill=\"none\"/>\n",
              "    <path d=\"M18.56 5.44l.94 2.06.94-2.06 2.06-.94-2.06-.94-.94-2.06-.94 2.06-2.06.94zm-11 1L8.5 8.5l.94-2.06 2.06-.94-2.06-.94L8.5 2.5l-.94 2.06-2.06.94zm10 10l.94 2.06.94-2.06 2.06-.94-2.06-.94-.94-2.06-.94 2.06-2.06.94z\"/><path d=\"M17.41 7.96l-1.37-1.37c-.4-.4-.92-.59-1.43-.59-.52 0-1.04.2-1.43.59L10.3 9.45l-7.72 7.72c-.78.78-.78 2.05 0 2.83L4 21.41c.39.39.9.59 1.41.59.51 0 1.02-.2 1.41-.59l7.78-7.78 2.81-2.81c.8-.78.8-2.07 0-2.86zM5.41 20L4 18.59l7.72-7.72 1.47 1.35L5.41 20z\"/>\n",
              "  </svg>\n",
              "      </button>\n",
              "      \n",
              "  <style>\n",
              "    .colab-df-container {\n",
              "      display:flex;\n",
              "      flex-wrap:wrap;\n",
              "      gap: 12px;\n",
              "    }\n",
              "\n",
              "    .colab-df-convert {\n",
              "      background-color: #E8F0FE;\n",
              "      border: none;\n",
              "      border-radius: 50%;\n",
              "      cursor: pointer;\n",
              "      display: none;\n",
              "      fill: #1967D2;\n",
              "      height: 32px;\n",
              "      padding: 0 0 0 0;\n",
              "      width: 32px;\n",
              "    }\n",
              "\n",
              "    .colab-df-convert:hover {\n",
              "      background-color: #E2EBFA;\n",
              "      box-shadow: 0px 1px 2px rgba(60, 64, 67, 0.3), 0px 1px 3px 1px rgba(60, 64, 67, 0.15);\n",
              "      fill: #174EA6;\n",
              "    }\n",
              "\n",
              "    [theme=dark] .colab-df-convert {\n",
              "      background-color: #3B4455;\n",
              "      fill: #D2E3FC;\n",
              "    }\n",
              "\n",
              "    [theme=dark] .colab-df-convert:hover {\n",
              "      background-color: #434B5C;\n",
              "      box-shadow: 0px 1px 3px 1px rgba(0, 0, 0, 0.15);\n",
              "      filter: drop-shadow(0px 1px 2px rgba(0, 0, 0, 0.3));\n",
              "      fill: #FFFFFF;\n",
              "    }\n",
              "  </style>\n",
              "\n",
              "      <script>\n",
              "        const buttonEl =\n",
              "          document.querySelector('#df-b6343359-bd6b-4d03-912c-eeac18377a78 button.colab-df-convert');\n",
              "        buttonEl.style.display =\n",
              "          google.colab.kernel.accessAllowed ? 'block' : 'none';\n",
              "\n",
              "        async function convertToInteractive(key) {\n",
              "          const element = document.querySelector('#df-b6343359-bd6b-4d03-912c-eeac18377a78');\n",
              "          const dataTable =\n",
              "            await google.colab.kernel.invokeFunction('convertToInteractive',\n",
              "                                                     [key], {});\n",
              "          if (!dataTable) return;\n",
              "\n",
              "          const docLinkHtml = 'Like what you see? Visit the ' +\n",
              "            '<a target=\"_blank\" href=https://colab.research.google.com/notebooks/data_table.ipynb>data table notebook</a>'\n",
              "            + ' to learn more about interactive tables.';\n",
              "          element.innerHTML = '';\n",
              "          dataTable['output_type'] = 'display_data';\n",
              "          await google.colab.output.renderOutput(dataTable, element);\n",
              "          const docLink = document.createElement('div');\n",
              "          docLink.innerHTML = docLinkHtml;\n",
              "          element.appendChild(docLink);\n",
              "        }\n",
              "      </script>\n",
              "    </div>\n",
              "  </div>\n",
              "  "
            ]
          },
          "metadata": {},
          "execution_count": 5
        }
      ]
    },
    {
      "cell_type": "code",
      "source": [
        "X = df.iloc[:,1:-1]\n",
        "X.head(5)\n",
        "X.info()"
      ],
      "metadata": {
        "colab": {
          "base_uri": "https://localhost:8080/"
        },
        "id": "MMEX0bGDTyr8",
        "outputId": "c80aead9-0105-44fe-95c7-edcb2774e073"
      },
      "execution_count": 7,
      "outputs": [
        {
          "output_type": "stream",
          "name": "stdout",
          "text": [
            "<class 'pandas.core.frame.DataFrame'>\n",
            "RangeIndex: 100 entries, 0 to 99\n",
            "Data columns (total 6 columns):\n",
            " #   Column      Non-Null Count  Dtype  \n",
            "---  ------      --------------  -----  \n",
            " 0   Name        100 non-null    object \n",
            " 1   Unnamed: 2  0 non-null      float64\n",
            " 2   Platform    100 non-null    object \n",
            " 3   Metascore   100 non-null    int64  \n",
            " 4   Date        100 non-null    object \n",
            " 5   Title       100 non-null    object \n",
            "dtypes: float64(1), int64(1), object(4)\n",
            "memory usage: 4.8+ KB\n"
          ]
        }
      ]
    },
    {
      "cell_type": "code",
      "source": [
        "y = df['Metascore']\n",
        "y.head(5)"
      ],
      "metadata": {
        "colab": {
          "base_uri": "https://localhost:8080/"
        },
        "id": "qxKveGO-UNwi",
        "outputId": "40f1c71a-4f57-4489-e692-0fc2f8b164ee"
      },
      "execution_count": 13,
      "outputs": [
        {
          "output_type": "execute_result",
          "data": {
            "text/plain": [
              "0    99\n",
              "1    98\n",
              "2    98\n",
              "3    98\n",
              "4    98\n",
              "Name: Metascore, dtype: int64"
            ]
          },
          "metadata": {},
          "execution_count": 13
        }
      ]
    },
    {
      "cell_type": "code",
      "source": [
        "from sklearn.svm import SVC\n",
        "from sklearn.neighbors import KNeighborsClassifier\n",
        "from sklearn.model_selection import cross_val_score"
      ],
      "metadata": {
        "id": "VvWv1Zc8UXGd"
      },
      "execution_count": 15,
      "outputs": []
    },
    {
      "cell_type": "code",
      "source": [
        "svm = SVC()\n",
        "svm_scores = cross_val_score(svm, X, y, cv=5, scoring='accuracy')\n",
        "svm_scores.mean()"
      ],
      "metadata": {
        "id": "5GFlgPt3UvEE"
      },
      "execution_count": null,
      "outputs": []
    },
    {
      "cell_type": "code",
      "source": [
        "knn = KNeighborsClassifier()\n",
        "knn_scores = cross_val_score(knn, X, y, cv=5, scoring='accuracy')\n",
        "knn_scores.mean()"
      ],
      "metadata": {
        "id": "F2IO66COVooR"
      },
      "execution_count": null,
      "outputs": []
    }
  ]
}